{
 "cells": [
  {
   "cell_type": "markdown",
   "id": "d32bfa0e-589a-4bdc-ad20-44de2f205096",
   "metadata": {},
   "source": [
    "<h1>Final Project: Topic Classification Model</h1>\n",
    "<p><strong>Presented By: </strong>Josiah Ball<br>\n",
    "<strong>Presented To: </strong>Professor Geena Kim<br>\n",
    "<strong>Class: </strong>DTSA 5509 Introduction to Machine Learning: Supervised Learning<br>\n",
    "<strong>Date: </strong>November 6, 2024</p>"
   ]
  },
  {
   "cell_type": "markdown",
   "id": "1c85caf1-aca7-48c5-ad09-b5306571aaf7",
   "metadata": {},
   "source": [
    "## Supervised Learning Problem Description\n",
    "<p>The supervised learning problem that I will address is a topic classification problem.</p>\n",
    "<p>I am using the <a src=\"https://www.kaggle.com/datasets/kotartemiy/topic-labeled-news-dataset\" target=\"_blank\">\"Topic Labeled News Dataset\"</a> from the public domain published on Kaggle by Artem Bugara. The dataset consists of 108,691 news articles that are labelled by topic out of the list below:</p>\n",
    "<ul><li>BUSINESS</li>\n",
    "<li>ENTERTAINMENT</li>\n",
    "<li>HEALTH</li>\n",
    "<li>NATION</li>\n",
    "<li>SCIENCE</li>\n",
    "<li>SPORTS</li>\n",
    "<li>TECHNOLOGY</li>\n",
    "<li>WORLD</li></ul>\n",
    "<p><strong>In this notebook, I will create a topic classification supervised learning model using both KNN and random forests to predict the topic of the article based on the title.</strong> I will compare the results of the two models and choose the model with higher performance.</p>"
   ]
  },
  {
   "cell_type": "markdown",
   "id": "6f01e59f-a813-4cb1-9b3e-db970b1be456",
   "metadata": {},
   "source": [
    "## Methodology\n",
    "<p>In this notebook, I will attempt the following:</p>\n",
    "<ol><li>Upload, clean, and explore the data</li>\n",
    "    <li>Vectorize the text to a vector using <strong>TF-IDF</strong></li>\n",
    "    <li>Build and train a <strong>KNN model</strong></li>\n",
    "    <li>Build and train a <strong>Random Forest model</strong></li>\n",
    "    <li>Compare the results of both models</li>\n",
    "    <li>Discuss the results and possible strategies for model improvement</li>\n",
    "    <li>Model Demos</li>\n",
    "</ol>"
   ]
  },
  {
   "cell_type": "markdown",
   "id": "48c61898-8382-458b-a10a-5411f8410202",
   "metadata": {},
   "source": [
    "## 1. Upload, clean, and explore the data"
   ]
  },
  {
   "cell_type": "code",
   "execution_count": 2,
   "id": "d3ab0114-e9f6-43a3-bf72-bb4fd0eaee9e",
   "metadata": {},
   "outputs": [],
   "source": [
    "# Import libraries\n",
    "import pandas as pd\n",
    "import matplotlib.pyplot as plt\n",
    "import numpy as np"
   ]
  },
  {
   "cell_type": "code",
   "execution_count": 4,
   "id": "25e0f34e-018f-48fc-bd88-9d350b53d251",
   "metadata": {},
   "outputs": [
    {
     "name": "stderr",
     "output_type": "stream",
     "text": [
      "C:\\Users\\jball\\AppData\\Local\\Temp\\ipykernel_12376\\1783111151.py:3: DtypeWarning: Columns (10,11,12,13,14,15,16,17,18,19,20,21,22,23,24,25,26,27,28,29,30,31,32,33,34) have mixed types. Specify dtype option on import or set low_memory=False.\n",
      "  df = pd.read_csv(doc_path)#, index_col=0)\n"
     ]
    }
   ],
   "source": [
    "# Upload dataset\n",
    "doc_path = \"labelled_newscatcher_dataset.csv\"\n",
    "df = pd.read_csv(doc_path)#, index_col=0)"
   ]
  },
  {
   "cell_type": "markdown",
   "id": "e70b1ca1-7d2b-4d0c-8d88-1127b4adffb3",
   "metadata": {},
   "source": [
    "### Exploratory Data Analysis"
   ]
  },
  {
   "cell_type": "code",
   "execution_count": 7,
   "id": "69706004-07b0-42f5-a68e-98d8999b7470",
   "metadata": {},
   "outputs": [
    {
     "name": "stdout",
     "output_type": "stream",
     "text": [
      "108691\n"
     ]
    },
    {
     "data": {
      "text/html": [
       "<div>\n",
       "<style scoped>\n",
       "    .dataframe tbody tr th:only-of-type {\n",
       "        vertical-align: middle;\n",
       "    }\n",
       "\n",
       "    .dataframe tbody tr th {\n",
       "        vertical-align: top;\n",
       "    }\n",
       "\n",
       "    .dataframe thead th {\n",
       "        text-align: right;\n",
       "    }\n",
       "</style>\n",
       "<table border=\"1\" class=\"dataframe\">\n",
       "  <thead>\n",
       "    <tr style=\"text-align: right;\">\n",
       "      <th></th>\n",
       "      <th>topic</th>\n",
       "      <th>link</th>\n",
       "      <th>domain</th>\n",
       "      <th>published_date</th>\n",
       "      <th>title</th>\n",
       "      <th>lang</th>\n",
       "      <th>Unnamed: 6</th>\n",
       "      <th>Unnamed: 7</th>\n",
       "      <th>Unnamed: 8</th>\n",
       "      <th>Unnamed: 9</th>\n",
       "      <th>...</th>\n",
       "      <th>Unnamed: 25</th>\n",
       "      <th>Unnamed: 26</th>\n",
       "      <th>Unnamed: 27</th>\n",
       "      <th>Unnamed: 28</th>\n",
       "      <th>Unnamed: 29</th>\n",
       "      <th>Unnamed: 30</th>\n",
       "      <th>Unnamed: 31</th>\n",
       "      <th>Unnamed: 32</th>\n",
       "      <th>Unnamed: 33</th>\n",
       "      <th>Unnamed: 34</th>\n",
       "    </tr>\n",
       "  </thead>\n",
       "  <tbody>\n",
       "    <tr>\n",
       "      <th>0</th>\n",
       "      <td>SCIENCE</td>\n",
       "      <td>https://www.eurekalert.org/pub_releases/2020-0...</td>\n",
       "      <td>eurekalert.org</td>\n",
       "      <td>8/6/2020 13:59</td>\n",
       "      <td>A closer look at water-splitting's solar fuel ...</td>\n",
       "      <td>en</td>\n",
       "      <td>NaN</td>\n",
       "      <td>NaN</td>\n",
       "      <td>NaN</td>\n",
       "      <td>NaN</td>\n",
       "      <td>...</td>\n",
       "      <td>NaN</td>\n",
       "      <td>NaN</td>\n",
       "      <td>NaN</td>\n",
       "      <td>NaN</td>\n",
       "      <td>NaN</td>\n",
       "      <td>NaN</td>\n",
       "      <td>NaN</td>\n",
       "      <td>NaN</td>\n",
       "      <td>NaN</td>\n",
       "      <td>NaN</td>\n",
       "    </tr>\n",
       "    <tr>\n",
       "      <th>1</th>\n",
       "      <td>SCIENCE</td>\n",
       "      <td>https://www.pulse.ng/news/world/an-irresistibl...</td>\n",
       "      <td>pulse.ng</td>\n",
       "      <td>8/12/2020 15:14</td>\n",
       "      <td>An irresistible scent makes locusts swarm</td>\n",
       "      <td>NaN</td>\n",
       "      <td>NaN</td>\n",
       "      <td>NaN</td>\n",
       "      <td>NaN</td>\n",
       "      <td>NaN</td>\n",
       "      <td>...</td>\n",
       "      <td>NaN</td>\n",
       "      <td>NaN</td>\n",
       "      <td>NaN</td>\n",
       "      <td>NaN</td>\n",
       "      <td>NaN</td>\n",
       "      <td>NaN</td>\n",
       "      <td>NaN</td>\n",
       "      <td>NaN</td>\n",
       "      <td>NaN</td>\n",
       "      <td>NaN</td>\n",
       "    </tr>\n",
       "    <tr>\n",
       "      <th>2</th>\n",
       "      <td>SCIENCE</td>\n",
       "      <td>https://www.express.co.uk/news/science/1322607...</td>\n",
       "      <td>express.co.uk</td>\n",
       "      <td>8/13/2020 21:01</td>\n",
       "      <td>Artificial intelligence warning: AI will know ...</td>\n",
       "      <td>en</td>\n",
       "      <td>NaN</td>\n",
       "      <td>NaN</td>\n",
       "      <td>NaN</td>\n",
       "      <td>NaN</td>\n",
       "      <td>...</td>\n",
       "      <td>NaN</td>\n",
       "      <td>NaN</td>\n",
       "      <td>NaN</td>\n",
       "      <td>NaN</td>\n",
       "      <td>NaN</td>\n",
       "      <td>NaN</td>\n",
       "      <td>NaN</td>\n",
       "      <td>NaN</td>\n",
       "      <td>NaN</td>\n",
       "      <td>NaN</td>\n",
       "    </tr>\n",
       "    <tr>\n",
       "      <th>3</th>\n",
       "      <td>SCIENCE</td>\n",
       "      <td>https://www.ndtv.com/world-news/glaciers-could...</td>\n",
       "      <td>ndtv.com</td>\n",
       "      <td>8/3/2020 22:18</td>\n",
       "      <td>Glaciers Could Have Sculpted Mars Valleys: Study</td>\n",
       "      <td>en</td>\n",
       "      <td>NaN</td>\n",
       "      <td>NaN</td>\n",
       "      <td>NaN</td>\n",
       "      <td>NaN</td>\n",
       "      <td>...</td>\n",
       "      <td>NaN</td>\n",
       "      <td>NaN</td>\n",
       "      <td>NaN</td>\n",
       "      <td>NaN</td>\n",
       "      <td>NaN</td>\n",
       "      <td>NaN</td>\n",
       "      <td>NaN</td>\n",
       "      <td>NaN</td>\n",
       "      <td>NaN</td>\n",
       "      <td>NaN</td>\n",
       "    </tr>\n",
       "    <tr>\n",
       "      <th>4</th>\n",
       "      <td>SCIENCE</td>\n",
       "      <td>https://www.thesun.ie/tech/5742187/perseid-met...</td>\n",
       "      <td>thesun.ie</td>\n",
       "      <td>8/12/2020 19:54</td>\n",
       "      <td>Perseid meteor shower 2020: What time and how ...</td>\n",
       "      <td>en</td>\n",
       "      <td>NaN</td>\n",
       "      <td>NaN</td>\n",
       "      <td>NaN</td>\n",
       "      <td>NaN</td>\n",
       "      <td>...</td>\n",
       "      <td>NaN</td>\n",
       "      <td>NaN</td>\n",
       "      <td>NaN</td>\n",
       "      <td>NaN</td>\n",
       "      <td>NaN</td>\n",
       "      <td>NaN</td>\n",
       "      <td>NaN</td>\n",
       "      <td>NaN</td>\n",
       "      <td>NaN</td>\n",
       "      <td>NaN</td>\n",
       "    </tr>\n",
       "  </tbody>\n",
       "</table>\n",
       "<p>5 rows × 35 columns</p>\n",
       "</div>"
      ],
      "text/plain": [
       "     topic                                               link          domain  \\\n",
       "0  SCIENCE  https://www.eurekalert.org/pub_releases/2020-0...  eurekalert.org   \n",
       "1  SCIENCE  https://www.pulse.ng/news/world/an-irresistibl...        pulse.ng   \n",
       "2  SCIENCE  https://www.express.co.uk/news/science/1322607...   express.co.uk   \n",
       "3  SCIENCE  https://www.ndtv.com/world-news/glaciers-could...        ndtv.com   \n",
       "4  SCIENCE  https://www.thesun.ie/tech/5742187/perseid-met...       thesun.ie   \n",
       "\n",
       "    published_date                                              title lang  \\\n",
       "0   8/6/2020 13:59  A closer look at water-splitting's solar fuel ...   en   \n",
       "1  8/12/2020 15:14          An irresistible scent makes locusts swarm  NaN   \n",
       "2  8/13/2020 21:01  Artificial intelligence warning: AI will know ...   en   \n",
       "3   8/3/2020 22:18   Glaciers Could Have Sculpted Mars Valleys: Study   en   \n",
       "4  8/12/2020 19:54  Perseid meteor shower 2020: What time and how ...   en   \n",
       "\n",
       "  Unnamed: 6 Unnamed: 7 Unnamed: 8 Unnamed: 9  ... Unnamed: 25 Unnamed: 26  \\\n",
       "0        NaN        NaN        NaN        NaN  ...         NaN         NaN   \n",
       "1        NaN        NaN        NaN        NaN  ...         NaN         NaN   \n",
       "2        NaN        NaN        NaN        NaN  ...         NaN         NaN   \n",
       "3        NaN        NaN        NaN        NaN  ...         NaN         NaN   \n",
       "4        NaN        NaN        NaN        NaN  ...         NaN         NaN   \n",
       "\n",
       "  Unnamed: 27 Unnamed: 28 Unnamed: 29 Unnamed: 30 Unnamed: 31 Unnamed: 32  \\\n",
       "0         NaN         NaN         NaN         NaN         NaN         NaN   \n",
       "1         NaN         NaN         NaN         NaN         NaN         NaN   \n",
       "2         NaN         NaN         NaN         NaN         NaN         NaN   \n",
       "3         NaN         NaN         NaN         NaN         NaN         NaN   \n",
       "4         NaN         NaN         NaN         NaN         NaN         NaN   \n",
       "\n",
       "  Unnamed: 33 Unnamed: 34  \n",
       "0         NaN         NaN  \n",
       "1         NaN         NaN  \n",
       "2         NaN         NaN  \n",
       "3         NaN         NaN  \n",
       "4         NaN         NaN  \n",
       "\n",
       "[5 rows x 35 columns]"
      ]
     },
     "execution_count": 7,
     "metadata": {},
     "output_type": "execute_result"
    }
   ],
   "source": [
    "print(len(df))\n",
    "df.head()"
   ]
  },
  {
   "cell_type": "code",
   "execution_count": 9,
   "id": "36651d21-4c04-4ff8-96ec-c75f449eaaeb",
   "metadata": {},
   "outputs": [
    {
     "data": {
      "text/html": [
       "<div>\n",
       "<style scoped>\n",
       "    .dataframe tbody tr th:only-of-type {\n",
       "        vertical-align: middle;\n",
       "    }\n",
       "\n",
       "    .dataframe tbody tr th {\n",
       "        vertical-align: top;\n",
       "    }\n",
       "\n",
       "    .dataframe thead th {\n",
       "        text-align: right;\n",
       "    }\n",
       "</style>\n",
       "<table border=\"1\" class=\"dataframe\">\n",
       "  <thead>\n",
       "    <tr style=\"text-align: right;\">\n",
       "      <th></th>\n",
       "      <th>topic</th>\n",
       "      <th>link</th>\n",
       "      <th>domain</th>\n",
       "      <th>title</th>\n",
       "      <th>published_date</th>\n",
       "      <th>lang</th>\n",
       "    </tr>\n",
       "  </thead>\n",
       "  <tbody>\n",
       "    <tr>\n",
       "      <th>0</th>\n",
       "      <td>SCIENCE</td>\n",
       "      <td>https://www.eurekalert.org/pub_releases/2020-0...</td>\n",
       "      <td>eurekalert.org</td>\n",
       "      <td>A closer look at water-splitting's solar fuel ...</td>\n",
       "      <td>8/6/2020 13:59</td>\n",
       "      <td>en</td>\n",
       "    </tr>\n",
       "    <tr>\n",
       "      <th>1</th>\n",
       "      <td>SCIENCE</td>\n",
       "      <td>https://www.pulse.ng/news/world/an-irresistibl...</td>\n",
       "      <td>pulse.ng</td>\n",
       "      <td>An irresistible scent makes locusts swarm</td>\n",
       "      <td>8/12/2020 15:14</td>\n",
       "      <td>NaN</td>\n",
       "    </tr>\n",
       "    <tr>\n",
       "      <th>2</th>\n",
       "      <td>SCIENCE</td>\n",
       "      <td>https://www.express.co.uk/news/science/1322607...</td>\n",
       "      <td>express.co.uk</td>\n",
       "      <td>Artificial intelligence warning: AI will know ...</td>\n",
       "      <td>8/13/2020 21:01</td>\n",
       "      <td>en</td>\n",
       "    </tr>\n",
       "    <tr>\n",
       "      <th>3</th>\n",
       "      <td>SCIENCE</td>\n",
       "      <td>https://www.ndtv.com/world-news/glaciers-could...</td>\n",
       "      <td>ndtv.com</td>\n",
       "      <td>Glaciers Could Have Sculpted Mars Valleys: Study</td>\n",
       "      <td>8/3/2020 22:18</td>\n",
       "      <td>en</td>\n",
       "    </tr>\n",
       "    <tr>\n",
       "      <th>4</th>\n",
       "      <td>SCIENCE</td>\n",
       "      <td>https://www.thesun.ie/tech/5742187/perseid-met...</td>\n",
       "      <td>thesun.ie</td>\n",
       "      <td>Perseid meteor shower 2020: What time and how ...</td>\n",
       "      <td>8/12/2020 19:54</td>\n",
       "      <td>en</td>\n",
       "    </tr>\n",
       "  </tbody>\n",
       "</table>\n",
       "</div>"
      ],
      "text/plain": [
       "     topic                                               link          domain  \\\n",
       "0  SCIENCE  https://www.eurekalert.org/pub_releases/2020-0...  eurekalert.org   \n",
       "1  SCIENCE  https://www.pulse.ng/news/world/an-irresistibl...        pulse.ng   \n",
       "2  SCIENCE  https://www.express.co.uk/news/science/1322607...   express.co.uk   \n",
       "3  SCIENCE  https://www.ndtv.com/world-news/glaciers-could...        ndtv.com   \n",
       "4  SCIENCE  https://www.thesun.ie/tech/5742187/perseid-met...       thesun.ie   \n",
       "\n",
       "                                               title   published_date lang  \n",
       "0  A closer look at water-splitting's solar fuel ...   8/6/2020 13:59   en  \n",
       "1          An irresistible scent makes locusts swarm  8/12/2020 15:14  NaN  \n",
       "2  Artificial intelligence warning: AI will know ...  8/13/2020 21:01   en  \n",
       "3   Glaciers Could Have Sculpted Mars Valleys: Study   8/3/2020 22:18   en  \n",
       "4  Perseid meteor shower 2020: What time and how ...  8/12/2020 19:54   en  "
      ]
     },
     "execution_count": 9,
     "metadata": {},
     "output_type": "execute_result"
    }
   ],
   "source": [
    "# Remove junk columns\n",
    "df1 = df[['topic','link','domain','title','published_date','lang']].copy()\n",
    "df1.head()"
   ]
  },
  {
   "cell_type": "code",
   "execution_count": 11,
   "id": "22f313d6-fe5e-42f3-a0f9-a0fe77cd0e88",
   "metadata": {},
   "outputs": [
    {
     "data": {
      "text/plain": [
       "topic                 0\n",
       "link                  0\n",
       "domain               64\n",
       "title                64\n",
       "published_date       64\n",
       "lang              25874\n",
       "dtype: int64"
      ]
     },
     "execution_count": 11,
     "metadata": {},
     "output_type": "execute_result"
    }
   ],
   "source": [
    "# Check for NaNs\n",
    "df1.isna().sum()"
   ]
  },
  {
   "cell_type": "code",
   "execution_count": 13,
   "id": "10d2481e-ed35-4183-bcaf-3223e23df00c",
   "metadata": {},
   "outputs": [
    {
     "name": "stdout",
     "output_type": "stream",
     "text": [
      "108691\n",
      "108627\n",
      "topic                 0\n",
      "link                  0\n",
      "domain                0\n",
      "title                 0\n",
      "published_date        0\n",
      "lang              25810\n",
      "dtype: int64\n"
     ]
    }
   ],
   "source": [
    "# Since 64/108691 < 0.001% of our data, we will drop NaN values from domain, title, and published date\n",
    "print(len(df1))\n",
    "df2 = df1.dropna(subset=['domain', 'title', 'published_date']).copy()\n",
    "print(len(df2))\n",
    "print(df2.isna().sum())"
   ]
  },
  {
   "cell_type": "code",
   "execution_count": 15,
   "id": "1f1eb43f-7066-44b1-bdd0-43370cd9d20e",
   "metadata": {},
   "outputs": [
    {
     "data": {
      "text/plain": [
       "lang\n",
       "en     82817\n",
       "NaN    25874\n",
       "Name: count, dtype: int64"
      ]
     },
     "execution_count": 15,
     "metadata": {},
     "output_type": "execute_result"
    }
   ],
   "source": [
    "# Check languages \n",
    "df1['lang'].value_counts(dropna=False)"
   ]
  },
  {
   "cell_type": "code",
   "execution_count": 17,
   "id": "e6948632-f2dc-4995-8026-c43215c881e7",
   "metadata": {},
   "outputs": [
    {
     "name": "stdout",
     "output_type": "stream",
     "text": [
      "topic\n",
      "BUSINESS         4825\n",
      "ENTERTAINMENT    2898\n",
      "HEALTH           3494\n",
      "NATION           3978\n",
      "SCIENCE           678\n",
      "SPORTS           3163\n",
      "TECHNOLOGY       3238\n",
      "WORLD            3536\n",
      "Name: lang, dtype: int64\n",
      "topic\n",
      "BUSINESS         14975\n",
      "ENTERTAINMENT    14985\n",
      "HEALTH           14984\n",
      "NATION           14982\n",
      "SCIENCE           3772\n",
      "SPORTS           14976\n",
      "TECHNOLOGY       14981\n",
      "WORLD            14972\n",
      "Name: count, dtype: int64\n"
     ]
    },
    {
     "data": {
      "text/plain": [
       "topic\n",
       "BUSINESS         0.322204\n",
       "ENTERTAINMENT    0.193393\n",
       "HEALTH           0.233182\n",
       "NATION           0.265519\n",
       "SCIENCE          0.179745\n",
       "SPORTS           0.211205\n",
       "TECHNOLOGY       0.216140\n",
       "WORLD            0.236174\n",
       "dtype: float64"
      ]
     },
     "execution_count": 17,
     "metadata": {},
     "output_type": "execute_result"
    }
   ],
   "source": [
    "# Check proportion of NaNs by topic\n",
    "print(df2.groupby(['topic'])['lang'].apply(lambda x: x.isnull().sum()))\n",
    "print(df2['topic'].value_counts(dropna=False).sort_index())\n",
    "df2.groupby(['topic'])['lang'].apply(lambda x: x.isnull().sum()) / df2['topic'].value_counts(dropna=False).sort_index()"
   ]
  },
  {
   "cell_type": "code",
   "execution_count": 19,
   "id": "3a7b9041-281c-44e1-9961-bf114524d2cc",
   "metadata": {},
   "outputs": [
    {
     "name": "stdout",
     "output_type": "stream",
     "text": [
      "108627\n",
      "82817\n",
      "topic\n",
      "ENTERTAINMENT    12087\n",
      "SPORTS           11813\n",
      "TECHNOLOGY       11743\n",
      "HEALTH           11490\n",
      "WORLD            11436\n",
      "NATION           11004\n",
      "BUSINESS         10150\n",
      "SCIENCE           3094\n",
      "Name: count, dtype: int64\n"
     ]
    }
   ],
   "source": [
    "# Because we want the model to only be used on english titles and the NaN proportion is roughly\n",
    "# equivalent across all topics, we will drop records with NaN values in the 'lang' columns.\n",
    "print(len(df2))\n",
    "df3 = df2.dropna(subset=['lang']).copy()\n",
    "print(len(df3))\n",
    "print(df3['topic'].value_counts(dropna=False))"
   ]
  },
  {
   "cell_type": "code",
   "execution_count": 21,
   "id": "7818b5b8-95e4-4547-8d42-acc7d6c14b13",
   "metadata": {},
   "outputs": [
    {
     "data": {
      "text/plain": [
       "topic\n",
       "ENTERTAINMENT    12087\n",
       "SPORTS           11813\n",
       "TECHNOLOGY       11743\n",
       "HEALTH           11490\n",
       "WORLD            11436\n",
       "NATION           11004\n",
       "BUSINESS         10150\n",
       "SCIENCE           3094\n",
       "Name: count, dtype: int64"
      ]
     },
     "execution_count": 21,
     "metadata": {},
     "output_type": "execute_result"
    }
   ],
   "source": [
    "# Check for imbalanced dataset\n",
    "df3['topic'].value_counts(dropna=False)"
   ]
  },
  {
   "cell_type": "markdown",
   "id": "5f7f9f58-8a68-4289-a024-886a2eeeef22",
   "metadata": {},
   "source": [
    "<p>NOTE: Since \"SCIENCE\" is a minority category, we will undersample the majority categories and take a smaller dataset.</p>\n",
    "<p>NOTE: The dataset is still too large to be able to process at this size, so we are undersampling to 1000 records of each.</p>"
   ]
  },
  {
   "cell_type": "code",
   "execution_count": 24,
   "id": "a58d5eef-42a7-492b-9022-e3c0c63f1df8",
   "metadata": {},
   "outputs": [
    {
     "data": {
      "text/plain": [
       "topic\n",
       "BUSINESS         3094\n",
       "ENTERTAINMENT    3094\n",
       "HEALTH           3094\n",
       "NATION           3094\n",
       "SCIENCE          3094\n",
       "SPORTS           3094\n",
       "TECHNOLOGY       3094\n",
       "WORLD            3094\n",
       "Name: count, dtype: int64"
      ]
     },
     "execution_count": 24,
     "metadata": {},
     "output_type": "execute_result"
    }
   ],
   "source": [
    "from imblearn.under_sampling import RandomUnderSampler\n",
    "y_temp = df3['topic']\n",
    "X_temp = df3.loc[:, df3.columns != 'topic']\n",
    "rus = RandomUnderSampler(random_state=42)\n",
    "X1_temp, y1_temp = rus.fit_resample(X_temp,y_temp)\n",
    "df4 = pd.concat([y1_temp, X1_temp], axis=1)\n",
    "df4['topic'].value_counts(dropna=False)"
   ]
  },
  {
   "cell_type": "code",
   "execution_count": 25,
   "id": "45d00941-3a9b-4159-8860-fa4b069b7c8f",
   "metadata": {},
   "outputs": [
    {
     "name": "stderr",
     "output_type": "stream",
     "text": [
      "C:\\Users\\jball\\AppData\\Local\\Temp\\ipykernel_12376\\2315058229.py:1: DeprecationWarning: DataFrameGroupBy.apply operated on the grouping columns. This behavior is deprecated, and in a future version of pandas the grouping columns will be excluded from the operation. Either pass `include_groups=False` to exclude the groupings or explicitly select the grouping columns after groupby to silence this warning.\n",
      "  df5 = df4.groupby('topic').apply(lambda x: x.sample(n=min(1000, len(x)), random_state=42)).reset_index(drop=True)\n"
     ]
    },
    {
     "data": {
      "text/plain": [
       "topic\n",
       "BUSINESS         1000\n",
       "ENTERTAINMENT    1000\n",
       "HEALTH           1000\n",
       "NATION           1000\n",
       "SCIENCE          1000\n",
       "SPORTS           1000\n",
       "TECHNOLOGY       1000\n",
       "WORLD            1000\n",
       "Name: count, dtype: int64"
      ]
     },
     "execution_count": 25,
     "metadata": {},
     "output_type": "execute_result"
    }
   ],
   "source": [
    "df5 = df4.groupby('topic').apply(lambda x: x.sample(n=min(1000, len(x)), random_state=42)).reset_index(drop=True)\n",
    "df5['topic'].value_counts(dropna=False)"
   ]
  },
  {
   "cell_type": "code",
   "execution_count": 26,
   "id": "38d3a7a2-9902-49a4-bbb3-83aa7c414a0c",
   "metadata": {},
   "outputs": [],
   "source": [
    "# Return clean dataset\n",
    "df_clean = df5.copy()"
   ]
  },
  {
   "cell_type": "code",
   "execution_count": 27,
   "id": "971eafb2-0291-4aba-85d8-214e303bb56f",
   "metadata": {},
   "outputs": [
    {
     "data": {
      "text/html": [
       "<div>\n",
       "<style scoped>\n",
       "    .dataframe tbody tr th:only-of-type {\n",
       "        vertical-align: middle;\n",
       "    }\n",
       "\n",
       "    .dataframe tbody tr th {\n",
       "        vertical-align: top;\n",
       "    }\n",
       "\n",
       "    .dataframe thead th {\n",
       "        text-align: right;\n",
       "    }\n",
       "</style>\n",
       "<table border=\"1\" class=\"dataframe\">\n",
       "  <thead>\n",
       "    <tr style=\"text-align: right;\">\n",
       "      <th></th>\n",
       "      <th>topic</th>\n",
       "      <th>link</th>\n",
       "      <th>domain</th>\n",
       "      <th>title</th>\n",
       "      <th>published_date</th>\n",
       "      <th>lang</th>\n",
       "    </tr>\n",
       "  </thead>\n",
       "  <tbody>\n",
       "    <tr>\n",
       "      <th>0</th>\n",
       "      <td>BUSINESS</td>\n",
       "      <td>https://nairametrics.com/2020/08/11/how-to-pro...</td>\n",
       "      <td>nairametrics.com</td>\n",
       "      <td>How to protect your crypto from cyber robbers</td>\n",
       "      <td>8/11/2020 7:19</td>\n",
       "      <td>en</td>\n",
       "    </tr>\n",
       "    <tr>\n",
       "      <th>1</th>\n",
       "      <td>BUSINESS</td>\n",
       "      <td>https://www.globenewswire.com/news-release/202...</td>\n",
       "      <td>globenewswire.com</td>\n",
       "      <td>B2Digital's Greg Bell and Chris Lytle Discuss ...</td>\n",
       "      <td>8/14/2020 12:30</td>\n",
       "      <td>en</td>\n",
       "    </tr>\n",
       "    <tr>\n",
       "      <th>2</th>\n",
       "      <td>BUSINESS</td>\n",
       "      <td>https://asia.nikkei.com/Business/Companies/Ali...</td>\n",
       "      <td>asia.nikkei.com</td>\n",
       "      <td>Alibaba's Ant targets largest-ever $30bn IPO: ...</td>\n",
       "      <td>8/3/2020 15:52</td>\n",
       "      <td>en</td>\n",
       "    </tr>\n",
       "    <tr>\n",
       "      <th>3</th>\n",
       "      <td>BUSINESS</td>\n",
       "      <td>https://www.reuters.com/article/us-lord-taylor...</td>\n",
       "      <td>reuters.com</td>\n",
       "      <td>Breakingviews - Retail’s WeWork escape hatch i...</td>\n",
       "      <td>8/3/2020 20:28</td>\n",
       "      <td>en</td>\n",
       "    </tr>\n",
       "    <tr>\n",
       "      <th>4</th>\n",
       "      <td>BUSINESS</td>\n",
       "      <td>https://www.hertfordshiremercury.co.uk/news/he...</td>\n",
       "      <td>hertfordshiremercury.co.uk</td>\n",
       "      <td>The 19 countries removed from UK quarantine li...</td>\n",
       "      <td>8/14/2020 6:47</td>\n",
       "      <td>en</td>\n",
       "    </tr>\n",
       "  </tbody>\n",
       "</table>\n",
       "</div>"
      ],
      "text/plain": [
       "      topic                                               link  \\\n",
       "0  BUSINESS  https://nairametrics.com/2020/08/11/how-to-pro...   \n",
       "1  BUSINESS  https://www.globenewswire.com/news-release/202...   \n",
       "2  BUSINESS  https://asia.nikkei.com/Business/Companies/Ali...   \n",
       "3  BUSINESS  https://www.reuters.com/article/us-lord-taylor...   \n",
       "4  BUSINESS  https://www.hertfordshiremercury.co.uk/news/he...   \n",
       "\n",
       "                       domain  \\\n",
       "0            nairametrics.com   \n",
       "1           globenewswire.com   \n",
       "2             asia.nikkei.com   \n",
       "3                 reuters.com   \n",
       "4  hertfordshiremercury.co.uk   \n",
       "\n",
       "                                               title   published_date lang  \n",
       "0      How to protect your crypto from cyber robbers   8/11/2020 7:19   en  \n",
       "1  B2Digital's Greg Bell and Chris Lytle Discuss ...  8/14/2020 12:30   en  \n",
       "2  Alibaba's Ant targets largest-ever $30bn IPO: ...   8/3/2020 15:52   en  \n",
       "3  Breakingviews - Retail’s WeWork escape hatch i...   8/3/2020 20:28   en  \n",
       "4  The 19 countries removed from UK quarantine li...   8/14/2020 6:47   en  "
      ]
     },
     "execution_count": 27,
     "metadata": {},
     "output_type": "execute_result"
    }
   ],
   "source": [
    "df_clean.head()"
   ]
  },
  {
   "cell_type": "markdown",
   "id": "9f2cb539-2fd2-41e0-9f44-e583bb4956e5",
   "metadata": {},
   "source": [
    "## 2. Vectorize the text to a vector using TF-IDF"
   ]
  },
  {
   "cell_type": "markdown",
   "id": "1ac37126-e893-43c9-be26-55697b985ec9",
   "metadata": {},
   "source": [
    "<p><em>NOTE: If you are unfamiliar with TF-IDF, a great overview is given in this video: <a href=\"https://www.youtube.com/watch?v=D2V1okCEsiE\" target=\"_blank\">https://www.youtube.com/watch?v=D2V1okCEsiE</a></em></p>"
   ]
  },
  {
   "cell_type": "code",
   "execution_count": 35,
   "id": "37214f8e-dfab-4c8a-a63c-cfc1db148b7b",
   "metadata": {},
   "outputs": [],
   "source": [
    "# Import TF-IDF Vectorizer from scikit-learn\n",
    "from sklearn.feature_extraction.text import TfidfVectorizer\n",
    "vectorizer = TfidfVectorizer()\n",
    "\n",
    "# TF-IDF Vectorization\n",
    "corpus = df_clean['title']\n",
    "vectors = vectorizer.fit_transform(corpus)\n",
    "feature_names = vectorizer.get_feature_names_out()\n",
    "dense = vectors.todense()\n",
    "dense_list = dense.tolist()\n",
    "vectors_df = pd.DataFrame(dense_list, columns=feature_names)"
   ]
  },
  {
   "cell_type": "code",
   "execution_count": 37,
   "id": "ba0e706c-4812-4ac3-ad95-6ca9949d6d64",
   "metadata": {},
   "outputs": [
    {
     "data": {
      "text/html": [
       "<div>\n",
       "<style scoped>\n",
       "    .dataframe tbody tr th:only-of-type {\n",
       "        vertical-align: middle;\n",
       "    }\n",
       "\n",
       "    .dataframe tbody tr th {\n",
       "        vertical-align: top;\n",
       "    }\n",
       "\n",
       "    .dataframe thead th {\n",
       "        text-align: right;\n",
       "    }\n",
       "</style>\n",
       "<table border=\"1\" class=\"dataframe\">\n",
       "  <thead>\n",
       "    <tr style=\"text-align: right;\">\n",
       "      <th></th>\n",
       "      <th>topic</th>\n",
       "      <th>link</th>\n",
       "      <th>domain</th>\n",
       "      <th>title</th>\n",
       "      <th>published_date</th>\n",
       "      <th>lang</th>\n",
       "      <th>TF-IDF Vector</th>\n",
       "    </tr>\n",
       "  </thead>\n",
       "  <tbody>\n",
       "    <tr>\n",
       "      <th>0</th>\n",
       "      <td>BUSINESS</td>\n",
       "      <td>https://nairametrics.com/2020/08/11/how-to-pro...</td>\n",
       "      <td>nairametrics.com</td>\n",
       "      <td>How to protect your crypto from cyber robbers</td>\n",
       "      <td>8/11/2020 7:19</td>\n",
       "      <td>en</td>\n",
       "      <td>[0.0, 0.0, 0.0, 0.0, 0.0, 0.0, 0.0, 0.0, 0.0, ...</td>\n",
       "    </tr>\n",
       "    <tr>\n",
       "      <th>1</th>\n",
       "      <td>BUSINESS</td>\n",
       "      <td>https://www.globenewswire.com/news-release/202...</td>\n",
       "      <td>globenewswire.com</td>\n",
       "      <td>B2Digital's Greg Bell and Chris Lytle Discuss ...</td>\n",
       "      <td>8/14/2020 12:30</td>\n",
       "      <td>en</td>\n",
       "      <td>[0.0, 0.0, 0.0, 0.0, 0.0, 0.0, 0.0, 0.0, 0.0, ...</td>\n",
       "    </tr>\n",
       "    <tr>\n",
       "      <th>2</th>\n",
       "      <td>BUSINESS</td>\n",
       "      <td>https://asia.nikkei.com/Business/Companies/Ali...</td>\n",
       "      <td>asia.nikkei.com</td>\n",
       "      <td>Alibaba's Ant targets largest-ever $30bn IPO: ...</td>\n",
       "      <td>8/3/2020 15:52</td>\n",
       "      <td>en</td>\n",
       "      <td>[0.0, 0.0, 0.0, 0.0, 0.0, 0.0, 0.0, 0.0, 0.0, ...</td>\n",
       "    </tr>\n",
       "    <tr>\n",
       "      <th>3</th>\n",
       "      <td>BUSINESS</td>\n",
       "      <td>https://www.reuters.com/article/us-lord-taylor...</td>\n",
       "      <td>reuters.com</td>\n",
       "      <td>Breakingviews - Retail’s WeWork escape hatch i...</td>\n",
       "      <td>8/3/2020 20:28</td>\n",
       "      <td>en</td>\n",
       "      <td>[0.0, 0.0, 0.0, 0.0, 0.0, 0.0, 0.0, 0.0, 0.0, ...</td>\n",
       "    </tr>\n",
       "    <tr>\n",
       "      <th>4</th>\n",
       "      <td>BUSINESS</td>\n",
       "      <td>https://www.hertfordshiremercury.co.uk/news/he...</td>\n",
       "      <td>hertfordshiremercury.co.uk</td>\n",
       "      <td>The 19 countries removed from UK quarantine li...</td>\n",
       "      <td>8/14/2020 6:47</td>\n",
       "      <td>en</td>\n",
       "      <td>[0.0, 0.0, 0.0, 0.0, 0.0, 0.0, 0.0, 0.0, 0.0, ...</td>\n",
       "    </tr>\n",
       "  </tbody>\n",
       "</table>\n",
       "</div>"
      ],
      "text/plain": [
       "      topic                                               link  \\\n",
       "0  BUSINESS  https://nairametrics.com/2020/08/11/how-to-pro...   \n",
       "1  BUSINESS  https://www.globenewswire.com/news-release/202...   \n",
       "2  BUSINESS  https://asia.nikkei.com/Business/Companies/Ali...   \n",
       "3  BUSINESS  https://www.reuters.com/article/us-lord-taylor...   \n",
       "4  BUSINESS  https://www.hertfordshiremercury.co.uk/news/he...   \n",
       "\n",
       "                       domain  \\\n",
       "0            nairametrics.com   \n",
       "1           globenewswire.com   \n",
       "2             asia.nikkei.com   \n",
       "3                 reuters.com   \n",
       "4  hertfordshiremercury.co.uk   \n",
       "\n",
       "                                               title   published_date lang  \\\n",
       "0      How to protect your crypto from cyber robbers   8/11/2020 7:19   en   \n",
       "1  B2Digital's Greg Bell and Chris Lytle Discuss ...  8/14/2020 12:30   en   \n",
       "2  Alibaba's Ant targets largest-ever $30bn IPO: ...   8/3/2020 15:52   en   \n",
       "3  Breakingviews - Retail’s WeWork escape hatch i...   8/3/2020 20:28   en   \n",
       "4  The 19 countries removed from UK quarantine li...   8/14/2020 6:47   en   \n",
       "\n",
       "                                       TF-IDF Vector  \n",
       "0  [0.0, 0.0, 0.0, 0.0, 0.0, 0.0, 0.0, 0.0, 0.0, ...  \n",
       "1  [0.0, 0.0, 0.0, 0.0, 0.0, 0.0, 0.0, 0.0, 0.0, ...  \n",
       "2  [0.0, 0.0, 0.0, 0.0, 0.0, 0.0, 0.0, 0.0, 0.0, ...  \n",
       "3  [0.0, 0.0, 0.0, 0.0, 0.0, 0.0, 0.0, 0.0, 0.0, ...  \n",
       "4  [0.0, 0.0, 0.0, 0.0, 0.0, 0.0, 0.0, 0.0, 0.0, ...  "
      ]
     },
     "execution_count": 37,
     "metadata": {},
     "output_type": "execute_result"
    }
   ],
   "source": [
    "df_clean['TF-IDF Vector'] = dense_list\n",
    "df_clean.head()"
   ]
  },
  {
   "cell_type": "code",
   "execution_count": 39,
   "id": "954fd6b1-f92b-4a9d-b88a-6989f8aba3e4",
   "metadata": {},
   "outputs": [
    {
     "data": {
      "text/plain": [
       "0       0.000000\n",
       "1       0.093512\n",
       "2       0.000000\n",
       "3       0.000000\n",
       "4       0.132386\n",
       "          ...   \n",
       "7995    0.000000\n",
       "7996    0.000000\n",
       "7997    0.000000\n",
       "7998    0.000000\n",
       "7999    0.000000\n",
       "Name: the, Length: 8000, dtype: float64"
      ]
     },
     "execution_count": 39,
     "metadata": {},
     "output_type": "execute_result"
    }
   ],
   "source": [
    "# View TF-IDF Vectors\n",
    "vectors_df\n",
    "vectors_df['the']"
   ]
  },
  {
   "cell_type": "markdown",
   "id": "0ef48cd8-f35b-4c0f-8eeb-5c98ec903d3a",
   "metadata": {},
   "source": [
    "## 3. Build and train a KNN model"
   ]
  },
  {
   "cell_type": "code",
   "execution_count": 41,
   "id": "697d7559-d318-4826-9d50-2fabd34ff0bd",
   "metadata": {},
   "outputs": [],
   "source": [
    "# Create train / validation / test split\n",
    "from sklearn.model_selection import train_test_split\n",
    "seed = 42\n",
    "df_train_validation, df_test = train_test_split(df_clean, test_size=0.2, random_state=seed, stratify=df_clean.topic)\n",
    "df_train, df_validation = train_test_split(df_train_validation, test_size=0.25, random_state=seed, stratify=df_train_validation.topic)"
   ]
  },
  {
   "cell_type": "code",
   "execution_count": 43,
   "id": "ad521225-731a-4b3d-9c48-fbcc9ca9c906",
   "metadata": {},
   "outputs": [
    {
     "name": "stdout",
     "output_type": "stream",
     "text": [
      "8000\n",
      "4800\n",
      "1600\n",
      "1600\n",
      "topic\n",
      "BUSINESS         0.125\n",
      "ENTERTAINMENT    0.125\n",
      "HEALTH           0.125\n",
      "NATION           0.125\n",
      "SCIENCE          0.125\n",
      "SPORTS           0.125\n",
      "TECHNOLOGY       0.125\n",
      "WORLD            0.125\n",
      "Name: title, dtype: float64\n",
      "topic\n",
      "BUSINESS         0.125\n",
      "ENTERTAINMENT    0.125\n",
      "HEALTH           0.125\n",
      "NATION           0.125\n",
      "SCIENCE          0.125\n",
      "SPORTS           0.125\n",
      "TECHNOLOGY       0.125\n",
      "WORLD            0.125\n",
      "Name: title, dtype: float64\n",
      "topic\n",
      "BUSINESS         0.125\n",
      "ENTERTAINMENT    0.125\n",
      "HEALTH           0.125\n",
      "NATION           0.125\n",
      "SCIENCE          0.125\n",
      "SPORTS           0.125\n",
      "TECHNOLOGY       0.125\n",
      "WORLD            0.125\n",
      "Name: title, dtype: float64\n"
     ]
    }
   ],
   "source": [
    "# Check counts and proportions of raining, validation, and testing datasets \n",
    "print(len(df_clean))\n",
    "print(len(df_train))\n",
    "print(len(df_validation))\n",
    "print(len(df_test))\n",
    "print(df_train.groupby('topic').count().title/len(df_train))\n",
    "print(df_validation.groupby('topic').count().title/len(df_validation))\n",
    "print(df_test.groupby('topic').count().title/len(df_test))"
   ]
  },
  {
   "cell_type": "code",
   "execution_count": 45,
   "id": "b3cd8f1e-6cd2-4e56-b1a8-fa6d9041c8fd",
   "metadata": {},
   "outputs": [
    {
     "data": {
      "image/png": "[encoded data removed]",
      "text/plain": [
       "<Figure size 640x480 with 1 Axes>"
      ]
     },
     "metadata": {},
     "output_type": "display_data"
    }
   ],
   "source": [
    "# Import libraries\n",
    "from sklearn.neighbors import KNeighborsClassifier\n",
    "from sklearn.metrics import classification_report\n",
    "import numpy as np\n",
    "\n",
    "#Setup arrays to store training and test accuracies\n",
    "neighbors = np.arange(1,25)\n",
    "test_metric = np.empty(len(neighbors))\n",
    "\n",
    "for i,k in enumerate(neighbors):\n",
    "    #Setup a knn classifier with k neighbors\n",
    "    knn = KNeighborsClassifier(n_neighbors=k)\n",
    "    \n",
    "    #Fit the model\n",
    "    knn.fit(df_train['TF-IDF Vector'].tolist(), df_train.topic.tolist())\n",
    "    \n",
    "    #Compute accuracy on the test set\n",
    "    y_pred = knn.predict(df_validation['TF-IDF Vector'].tolist())\n",
    "    clf_rep = classification_report(df_validation.topic.tolist(), y_pred, output_dict=True)\n",
    "    test_metric[i] = clf_rep['macro avg']['f1-score']\n",
    "    \n",
    "    \n",
    "#Generate plot\n",
    "plt.title('k-NN Varying number of neighbors')\n",
    "plt.plot(neighbors, test_metric, label='Training f1')\n",
    "plt.legend()\n",
    "plt.xlabel('Number of neighbors')\n",
    "plt.ylabel('F1 Score')\n",
    "plt.show()"
   ]
  },
  {
   "cell_type": "code",
   "execution_count": 47,
   "id": "24e347fc-12cc-453a-aeef-30a17a241fa2",
   "metadata": {},
   "outputs": [
    {
     "data": {
      "text/plain": [
       "15"
      ]
     },
     "execution_count": 47,
     "metadata": {},
     "output_type": "execute_result"
    }
   ],
   "source": [
    "# Find k that maximizes F1-Score\n",
    "index_maxval = np.argmax(test_metric)\n",
    "index_maxval"
   ]
  },
  {
   "cell_type": "code",
   "execution_count": 49,
   "id": "c1ea586f-d0d1-4d60-af55-9ddc411eb8f6",
   "metadata": {},
   "outputs": [
    {
     "data": {
      "text/plain": [
       "0.6393731891731794"
      ]
     },
     "execution_count": 49,
     "metadata": {},
     "output_type": "execute_result"
    }
   ],
   "source": [
    "test_metric[index_maxval]"
   ]
  },
  {
   "cell_type": "code",
   "execution_count": 51,
   "id": "9c12b634-3cbc-4886-b55d-410faaee99a3",
   "metadata": {},
   "outputs": [],
   "source": [
    "# Thus, k = 16 mazimizes performance on the validation dataset\n",
    "maxval = index_maxval + 1"
   ]
  },
  {
   "cell_type": "code",
   "execution_count": 53,
   "id": "03fb9636-aac1-45ab-800d-a77feed35dd5",
   "metadata": {},
   "outputs": [
    {
     "data": {
      "text/html": [
       "<style>#sk-container-id-1 {\n",
       "  /* Definition of color scheme common for light and dark mode */\n",
       "  --sklearn-color-text: black;\n",
       "  --sklearn-color-line: gray;\n",
       "  /* Definition of color scheme for unfitted estimators */\n",
       "  --sklearn-color-unfitted-level-0: #fff5e6;\n",
       "  --sklearn-color-unfitted-level-1: #f6e4d2;\n",
       "  --sklearn-color-unfitted-level-2: #ffe0b3;\n",
       "  --sklearn-color-unfitted-level-3: chocolate;\n",
       "  /* Definition of color scheme for fitted estimators */\n",
       "  --sklearn-color-fitted-level-0: #f0f8ff;\n",
       "  --sklearn-color-fitted-level-1: #d4ebff;\n",
       "  --sklearn-color-fitted-level-2: #b3dbfd;\n",
       "  --sklearn-color-fitted-level-3: cornflowerblue;\n",
       "\n",
       "  /* Specific color for light theme */\n",
       "  --sklearn-color-text-on-default-background: var(--sg-text-color, var(--theme-code-foreground, var(--jp-content-font-color1, black)));\n",
       "  --sklearn-color-background: var(--sg-background-color, var(--theme-background, var(--jp-layout-color0, white)));\n",
       "  --sklearn-color-border-box: var(--sg-text-color, var(--theme-code-foreground, var(--jp-content-font-color1, black)));\n",
       "  --sklearn-color-icon: #696969;\n",
       "\n",
       "  @media (prefers-color-scheme: dark) {\n",
       "    /* Redefinition of color scheme for dark theme */\n",
       "    --sklearn-color-text-on-default-background: var(--sg-text-color, var(--theme-code-foreground, var(--jp-content-font-color1, white)));\n",
       "    --sklearn-color-background: var(--sg-background-color, var(--theme-background, var(--jp-layout-color0, #111)));\n",
       "    --sklearn-color-border-box: var(--sg-text-color, var(--theme-code-foreground, var(--jp-content-font-color1, white)));\n",
       "    --sklearn-color-icon: #878787;\n",
       "  }\n",
       "}\n",
       "\n",
       "#sk-container-id-1 {\n",
       "  color: var(--sklearn-color-text);\n",
       "}\n",
       "\n",
       "#sk-container-id-1 pre {\n",
       "  padding: 0;\n",
       "}\n",
       "\n",
       "#sk-container-id-1 input.sk-hidden--visually {\n",
       "  border: 0;\n",
       "  clip: rect(1px 1px 1px 1px);\n",
       "  clip: rect(1px, 1px, 1px, 1px);\n",
       "  height: 1px;\n",
       "  margin: -1px;\n",
       "  overflow: hidden;\n",
       "  padding: 0;\n",
       "  position: absolute;\n",
       "  width: 1px;\n",
       "}\n",
       "\n",
       "#sk-container-id-1 div.sk-dashed-wrapped {\n",
       "  border: 1px dashed var(--sklearn-color-line);\n",
       "  margin: 0 0.4em 0.5em 0.4em;\n",
       "  box-sizing: border-box;\n",
       "  padding-bottom: 0.4em;\n",
       "  background-color: var(--sklearn-color-background);\n",
       "}\n",
       "\n",
       "#sk-container-id-1 div.sk-container {\n",
       "  /* jupyter's `normalize.less` sets `[hidden] { display: none; }`\n",
       "     but bootstrap.min.css set `[hidden] { display: none !important; }`\n",
       "     so we also need the `!important` here to be able to override the\n",
       "     default hidden behavior on the sphinx rendered scikit-learn.org.\n",
       "     See: https://github.com/scikit-learn/scikit-learn/issues/21755 */\n",
       "  display: inline-block !important;\n",
       "  position: relative;\n",
       "}\n",
       "\n",
       "#sk-container-id-1 div.sk-text-repr-fallback {\n",
       "  display: none;\n",
       "}\n",
       "\n",
       "div.sk-parallel-item,\n",
       "div.sk-serial,\n",
       "div.sk-item {\n",
       "  /* draw centered vertical line to link estimators */\n",
       "  background-image: linear-gradient(var(--sklearn-color-text-on-default-background), var(--sklearn-color-text-on-default-background));\n",
       "  background-size: 2px 100%;\n",
       "  background-repeat: no-repeat;\n",
       "  background-position: center center;\n",
       "}\n",
       "\n",
       "/* Parallel-specific style estimator block */\n",
       "\n",
       "#sk-container-id-1 div.sk-parallel-item::after {\n",
       "  content: \"\";\n",
       "  width: 100%;\n",
       "  border-bottom: 2px solid var(--sklearn-color-text-on-default-background);\n",
       "  flex-grow: 1;\n",
       "}\n",
       "\n",
       "#sk-container-id-1 div.sk-parallel {\n",
       "  display: flex;\n",
       "  align-items: stretch;\n",
       "  justify-content: center;\n",
       "  background-color: var(--sklearn-color-background);\n",
       "  position: relative;\n",
       "}\n",
       "\n",
       "#sk-container-id-1 div.sk-parallel-item {\n",
       "  display: flex;\n",
       "  flex-direction: column;\n",
       "}\n",
       "\n",
       "#sk-container-id-1 div.sk-parallel-item:first-child::after {\n",
       "  align-self: flex-end;\n",
       "  width: 50%;\n",
       "}\n",
       "\n",
       "#sk-container-id-1 div.sk-parallel-item:last-child::after {\n",
       "  align-self: flex-start;\n",
       "  width: 50%;\n",
       "}\n",
       "\n",
       "#sk-container-id-1 div.sk-parallel-item:only-child::after {\n",
       "  width: 0;\n",
       "}\n",
       "\n",
       "/* Serial-specific style estimator block */\n",
       "\n",
       "#sk-container-id-1 div.sk-serial {\n",
       "  display: flex;\n",
       "  flex-direction: column;\n",
       "  align-items: center;\n",
       "  background-color: var(--sklearn-color-background);\n",
       "  padding-right: 1em;\n",
       "  padding-left: 1em;\n",
       "}\n",
       "\n",
       "\n",
       "/* Toggleable style: style used for estimator/Pipeline/ColumnTransformer box that is\n",
       "clickable and can be expanded/collapsed.\n",
       "- Pipeline and ColumnTransformer use this feature and define the default style\n",
       "- Estimators will overwrite some part of the style using the `sk-estimator` class\n",
       "*/\n",
       "\n",
       "/* Pipeline and ColumnTransformer style (default) */\n",
       "\n",
       "#sk-container-id-1 div.sk-toggleable {\n",
       "  /* Default theme specific background. It is overwritten whether we have a\n",
       "  specific estimator or a Pipeline/ColumnTransformer */\n",
       "  background-color: var(--sklearn-color-background);\n",
       "}\n",
       "\n",
       "/* Toggleable label */\n",
       "#sk-container-id-1 label.sk-toggleable__label {\n",
       "  cursor: pointer;\n",
       "  display: block;\n",
       "  width: 100%;\n",
       "  margin-bottom: 0;\n",
       "  padding: 0.5em;\n",
       "  box-sizing: border-box;\n",
       "  text-align: center;\n",
       "}\n",
       "\n",
       "#sk-container-id-1 label.sk-toggleable__label-arrow:before {\n",
       "  /* Arrow on the left of the label */\n",
       "  content: \"▸\";\n",
       "  float: left;\n",
       "  margin-right: 0.25em;\n",
       "  color: var(--sklearn-color-icon);\n",
       "}\n",
       "\n",
       "#sk-container-id-1 label.sk-toggleable__label-arrow:hover:before {\n",
       "  color: var(--sklearn-color-text);\n",
       "}\n",
       "\n",
       "/* Toggleable content - dropdown */\n",
       "\n",
       "#sk-container-id-1 div.sk-toggleable__content {\n",
       "  max-height: 0;\n",
       "  max-width: 0;\n",
       "  overflow: hidden;\n",
       "  text-align: left;\n",
       "  /* unfitted */\n",
       "  background-color: var(--sklearn-color-unfitted-level-0);\n",
       "}\n",
       "\n",
       "#sk-container-id-1 div.sk-toggleable__content.fitted {\n",
       "  /* fitted */\n",
       "  background-color: var(--sklearn-color-fitted-level-0);\n",
       "}\n",
       "\n",
       "#sk-container-id-1 div.sk-toggleable__content pre {\n",
       "  margin: 0.2em;\n",
       "  border-radius: 0.25em;\n",
       "  color: var(--sklearn-color-text);\n",
       "  /* unfitted */\n",
       "  background-color: var(--sklearn-color-unfitted-level-0);\n",
       "}\n",
       "\n",
       "#sk-container-id-1 div.sk-toggleable__content.fitted pre {\n",
       "  /* unfitted */\n",
       "  background-color: var(--sklearn-color-fitted-level-0);\n",
       "}\n",
       "\n",
       "#sk-container-id-1 input.sk-toggleable__control:checked~div.sk-toggleable__content {\n",
       "  /* Expand drop-down */\n",
       "  max-height: 200px;\n",
       "  max-width: 100%;\n",
       "  overflow: auto;\n",
       "}\n",
       "\n",
       "#sk-container-id-1 input.sk-toggleable__control:checked~label.sk-toggleable__label-arrow:before {\n",
       "  content: \"▾\";\n",
       "}\n",
       "\n",
       "/* Pipeline/ColumnTransformer-specific style */\n",
       "\n",
       "#sk-container-id-1 div.sk-label input.sk-toggleable__control:checked~label.sk-toggleable__label {\n",
       "  color: var(--sklearn-color-text);\n",
       "  background-color: var(--sklearn-color-unfitted-level-2);\n",
       "}\n",
       "\n",
       "#sk-container-id-1 div.sk-label.fitted input.sk-toggleable__control:checked~label.sk-toggleable__label {\n",
       "  background-color: var(--sklearn-color-fitted-level-2);\n",
       "}\n",
       "\n",
       "/* Estimator-specific style */\n",
       "\n",
       "/* Colorize estimator box */\n",
       "#sk-container-id-1 div.sk-estimator input.sk-toggleable__control:checked~label.sk-toggleable__label {\n",
       "  /* unfitted */\n",
       "  background-color: var(--sklearn-color-unfitted-level-2);\n",
       "}\n",
       "\n",
       "#sk-container-id-1 div.sk-estimator.fitted input.sk-toggleable__control:checked~label.sk-toggleable__label {\n",
       "  /* fitted */\n",
       "  background-color: var(--sklearn-color-fitted-level-2);\n",
       "}\n",
       "\n",
       "#sk-container-id-1 div.sk-label label.sk-toggleable__label,\n",
       "#sk-container-id-1 div.sk-label label {\n",
       "  /* The background is the default theme color */\n",
       "  color: var(--sklearn-color-text-on-default-background);\n",
       "}\n",
       "\n",
       "/* On hover, darken the color of the background */\n",
       "#sk-container-id-1 div.sk-label:hover label.sk-toggleable__label {\n",
       "  color: var(--sklearn-color-text);\n",
       "  background-color: var(--sklearn-color-unfitted-level-2);\n",
       "}\n",
       "\n",
       "/* Label box, darken color on hover, fitted */\n",
       "#sk-container-id-1 div.sk-label.fitted:hover label.sk-toggleable__label.fitted {\n",
       "  color: var(--sklearn-color-text);\n",
       "  background-color: var(--sklearn-color-fitted-level-2);\n",
       "}\n",
       "\n",
       "/* Estimator label */\n",
       "\n",
       "#sk-container-id-1 div.sk-label label {\n",
       "  font-family: monospace;\n",
       "  font-weight: bold;\n",
       "  display: inline-block;\n",
       "  line-height: 1.2em;\n",
       "}\n",
       "\n",
       "#sk-container-id-1 div.sk-label-container {\n",
       "  text-align: center;\n",
       "}\n",
       "\n",
       "/* Estimator-specific */\n",
       "#sk-container-id-1 div.sk-estimator {\n",
       "  font-family: monospace;\n",
       "  border: 1px dotted var(--sklearn-color-border-box);\n",
       "  border-radius: 0.25em;\n",
       "  box-sizing: border-box;\n",
       "  margin-bottom: 0.5em;\n",
       "  /* unfitted */\n",
       "  background-color: var(--sklearn-color-unfitted-level-0);\n",
       "}\n",
       "\n",
       "#sk-container-id-1 div.sk-estimator.fitted {\n",
       "  /* fitted */\n",
       "  background-color: var(--sklearn-color-fitted-level-0);\n",
       "}\n",
       "\n",
       "/* on hover */\n",
       "#sk-container-id-1 div.sk-estimator:hover {\n",
       "  /* unfitted */\n",
       "  background-color: var(--sklearn-color-unfitted-level-2);\n",
       "}\n",
       "\n",
       "#sk-container-id-1 div.sk-estimator.fitted:hover {\n",
       "  /* fitted */\n",
       "  background-color: var(--sklearn-color-fitted-level-2);\n",
       "}\n",
       "\n",
       "/* Specification for estimator info (e.g. \"i\" and \"?\") */\n",
       "\n",
       "/* Common style for \"i\" and \"?\" */\n",
       "\n",
       ".sk-estimator-doc-link,\n",
       "a:link.sk-estimator-doc-link,\n",
       "a:visited.sk-estimator-doc-link {\n",
       "  float: right;\n",
       "  font-size: smaller;\n",
       "  line-height: 1em;\n",
       "  font-family: monospace;\n",
       "  background-color: var(--sklearn-color-background);\n",
       "  border-radius: 1em;\n",
       "  height: 1em;\n",
       "  width: 1em;\n",
       "  text-decoration: none !important;\n",
       "  margin-left: 1ex;\n",
       "  /* unfitted */\n",
       "  border: var(--sklearn-color-unfitted-level-1) 1pt solid;\n",
       "  color: var(--sklearn-color-unfitted-level-1);\n",
       "}\n",
       "\n",
       ".sk-estimator-doc-link.fitted,\n",
       "a:link.sk-estimator-doc-link.fitted,\n",
       "a:visited.sk-estimator-doc-link.fitted {\n",
       "  /* fitted */\n",
       "  border: var(--sklearn-color-fitted-level-1) 1pt solid;\n",
       "  color: var(--sklearn-color-fitted-level-1);\n",
       "}\n",
       "\n",
       "/* On hover */\n",
       "div.sk-estimator:hover .sk-estimator-doc-link:hover,\n",
       ".sk-estimator-doc-link:hover,\n",
       "div.sk-label-container:hover .sk-estimator-doc-link:hover,\n",
       ".sk-estimator-doc-link:hover {\n",
       "  /* unfitted */\n",
       "  background-color: var(--sklearn-color-unfitted-level-3);\n",
       "  color: var(--sklearn-color-background);\n",
       "  text-decoration: none;\n",
       "}\n",
       "\n",
       "div.sk-estimator.fitted:hover .sk-estimator-doc-link.fitted:hover,\n",
       ".sk-estimator-doc-link.fitted:hover,\n",
       "div.sk-label-container:hover .sk-estimator-doc-link.fitted:hover,\n",
       ".sk-estimator-doc-link.fitted:hover {\n",
       "  /* fitted */\n",
       "  background-color: var(--sklearn-color-fitted-level-3);\n",
       "  color: var(--sklearn-color-background);\n",
       "  text-decoration: none;\n",
       "}\n",
       "\n",
       "/* Span, style for the box shown on hovering the info icon */\n",
       ".sk-estimator-doc-link span {\n",
       "  display: none;\n",
       "  z-index: 9999;\n",
       "  position: relative;\n",
       "  font-weight: normal;\n",
       "  right: .2ex;\n",
       "  padding: .5ex;\n",
       "  margin: .5ex;\n",
       "  width: min-content;\n",
       "  min-width: 20ex;\n",
       "  max-width: 50ex;\n",
       "  color: var(--sklearn-color-text);\n",
       "  box-shadow: 2pt 2pt 4pt #999;\n",
       "  /* unfitted */\n",
       "  background: var(--sklearn-color-unfitted-level-0);\n",
       "  border: .5pt solid var(--sklearn-color-unfitted-level-3);\n",
       "}\n",
       "\n",
       ".sk-estimator-doc-link.fitted span {\n",
       "  /* fitted */\n",
       "  background: var(--sklearn-color-fitted-level-0);\n",
       "  border: var(--sklearn-color-fitted-level-3);\n",
       "}\n",
       "\n",
       ".sk-estimator-doc-link:hover span {\n",
       "  display: block;\n",
       "}\n",
       "\n",
       "/* \"?\"-specific style due to the `<a>` HTML tag */\n",
       "\n",
       "#sk-container-id-1 a.estimator_doc_link {\n",
       "  float: right;\n",
       "  font-size: 1rem;\n",
       "  line-height: 1em;\n",
       "  font-family: monospace;\n",
       "  background-color: var(--sklearn-color-background);\n",
       "  border-radius: 1rem;\n",
       "  height: 1rem;\n",
       "  width: 1rem;\n",
       "  text-decoration: none;\n",
       "  /* unfitted */\n",
       "  color: var(--sklearn-color-unfitted-level-1);\n",
       "  border: var(--sklearn-color-unfitted-level-1) 1pt solid;\n",
       "}\n",
       "\n",
       "#sk-container-id-1 a.estimator_doc_link.fitted {\n",
       "  /* fitted */\n",
       "  border: var(--sklearn-color-fitted-level-1) 1pt solid;\n",
       "  color: var(--sklearn-color-fitted-level-1);\n",
       "}\n",
       "\n",
       "/* On hover */\n",
       "#sk-container-id-1 a.estimator_doc_link:hover {\n",
       "  /* unfitted */\n",
       "  background-color: var(--sklearn-color-unfitted-level-3);\n",
       "  color: var(--sklearn-color-background);\n",
       "  text-decoration: none;\n",
       "}\n",
       "\n",
       "#sk-container-id-1 a.estimator_doc_link.fitted:hover {\n",
       "  /* fitted */\n",
       "  background-color: var(--sklearn-color-fitted-level-3);\n",
       "}\n",
       "</style><div id=\"sk-container-id-1\" class=\"sk-top-container\"><div class=\"sk-text-repr-fallback\"><pre>KNeighborsClassifier(n_neighbors=16)</pre><b>In a Jupyter environment, please rerun this cell to show the HTML representation or trust the notebook. <br />On GitHub, the HTML representation is unable to render, please try loading this page with nbviewer.org.</b></div><div class=\"sk-container\" hidden><div class=\"sk-item\"><div class=\"sk-estimator fitted sk-toggleable\"><input class=\"sk-toggleable__control sk-hidden--visually\" id=\"sk-estimator-id-1\" type=\"checkbox\" checked><label for=\"sk-estimator-id-1\" class=\"sk-toggleable__label fitted sk-toggleable__label-arrow fitted\">&nbsp;&nbsp;KNeighborsClassifier<a class=\"sk-estimator-doc-link fitted\" rel=\"noreferrer\" target=\"_blank\" href=\"https://scikit-learn.org/1.4/modules/generated/sklearn.neighbors.KNeighborsClassifier.html\">?<span>Documentation for KNeighborsClassifier</span></a><span class=\"sk-estimator-doc-link fitted\">i<span>Fitted</span></span></label><div class=\"sk-toggleable__content fitted\"><pre>KNeighborsClassifier(n_neighbors=16)</pre></div> </div></div></div></div>"
      ],
      "text/plain": [
       "KNeighborsClassifier(n_neighbors=16)"
      ]
     },
     "execution_count": 53,
     "metadata": {},
     "output_type": "execute_result"
    }
   ],
   "source": [
    "# Fit KNN with maxval\n",
    "knn = KNeighborsClassifier(n_neighbors=maxval)\n",
    "knn.fit(df_train['TF-IDF Vector'].tolist(), df_train.topic.tolist())"
   ]
  },
  {
   "cell_type": "markdown",
   "id": "ed517fe1-b71c-4011-8a18-e678d9df6231",
   "metadata": {},
   "source": [
    "## 4. Build and train a Random Forest model"
   ]
  },
  {
   "cell_type": "code",
   "execution_count": 55,
   "id": "fc1d74e7-4dfc-46ed-8067-340acabaeeff",
   "metadata": {},
   "outputs": [],
   "source": [
    "from sklearn.ensemble import RandomForestClassifier\n",
    "import math\n",
    "n_predictors = len(df_clean['TF-IDF Vector'][0])\n",
    "sqrt_n_predictors = round(math.sqrt(n_predictors))\n",
    "min_predictors = sqrt_n_predictors - 50\n",
    "max_predictors = sqrt_n_predictors + 50"
   ]
  },
  {
   "cell_type": "code",
   "execution_count": 65,
   "id": "aab1bfa7-b713-454c-978b-98d63e164e41",
   "metadata": {},
   "outputs": [],
   "source": [
    "rf_classifier = RandomForestClassifier(n_estimators=sqrt_n_predictors, random_state=42)\n",
    "rf_classifier.fit(df_train['TF-IDF Vector'].tolist(), df_train.topic.tolist())\n",
    "y_pred = rf_classifier.predict(df_validation['TF-IDF Vector'].tolist())"
   ]
  },
  {
   "cell_type": "code",
   "execution_count": 67,
   "id": "e5069f84-0e0a-4430-9eba-51608d6f0f7e",
   "metadata": {},
   "outputs": [
    {
     "name": "stdout",
     "output_type": "stream",
     "text": [
      "               precision    recall  f1-score   support\n",
      "\n",
      "     BUSINESS       0.63      0.42      0.50       200\n",
      "ENTERTAINMENT       0.58      0.58      0.58       200\n",
      "       HEALTH       0.53      0.70      0.60       200\n",
      "       NATION       0.34      0.55      0.42       200\n",
      "      SCIENCE       0.80      0.78      0.79       200\n",
      "       SPORTS       0.80      0.63      0.70       200\n",
      "   TECHNOLOGY       0.66      0.67      0.66       200\n",
      "        WORLD       0.57      0.34      0.43       200\n",
      "\n",
      "     accuracy                           0.58      1600\n",
      "    macro avg       0.61      0.58      0.59      1600\n",
      " weighted avg       0.61      0.58      0.59      1600\n",
      "\n"
     ]
    }
   ],
   "source": [
    "from sklearn.metrics import accuracy_score, classification_report\n",
    "print(classification_report(df_validation.topic.tolist(), y_pred))"
   ]
  },
  {
   "cell_type": "code",
   "execution_count": 69,
   "id": "88a91449-44d3-4db4-a749-fe682d1fbf24",
   "metadata": {},
   "outputs": [
    {
     "name": "stdout",
     "output_type": "stream",
     "text": [
      "Best hyperparameters: {'max_depth': 16, 'n_estimators': 140}\n"
     ]
    }
   ],
   "source": [
    "from sklearn.model_selection import RandomizedSearchCV\n",
    "from scipy.stats import randint\n",
    "\n",
    "param_dist = {\n",
    "    'n_estimators': randint(min_predictors, max_predictors),\n",
    "    'max_depth': randint(1, 20)\n",
    "}\n",
    "rf = RandomForestClassifier()\n",
    "rand_search = RandomizedSearchCV(rf, param_distributions=param_dist, n_iter=5, cv=5)\n",
    "rand_search.fit(df_train['TF-IDF Vector'].tolist(), df_train.topic.tolist())\n",
    "best_rf = rand_search.best_estimator_\n",
    "print('Best hyperparameters:', rand_search.best_params_)"
   ]
  },
  {
   "cell_type": "markdown",
   "id": "2ecea5dd-2a8b-4b25-9abb-00f858a3787d",
   "metadata": {},
   "source": [
    "## 5. Compare the results of both models"
   ]
  },
  {
   "cell_type": "code",
   "execution_count": 82,
   "id": "22ad2032-52fc-4ea2-bb2e-716156beb689",
   "metadata": {},
   "outputs": [
    {
     "name": "stdout",
     "output_type": "stream",
     "text": [
      "               precision    recall  f1-score   support\n",
      "\n",
      "     BUSINESS       0.61      0.58      0.59       200\n",
      "ENTERTAINMENT       0.71      0.65      0.68       200\n",
      "       HEALTH       0.46      0.76      0.57       200\n",
      "       NATION       0.51      0.37      0.43       200\n",
      "      SCIENCE       0.69      0.81      0.74       200\n",
      "       SPORTS       0.81      0.68      0.74       200\n",
      "   TECHNOLOGY       0.74      0.71      0.72       200\n",
      "        WORLD       0.51      0.41      0.46       200\n",
      "\n",
      "     accuracy                           0.62      1600\n",
      "    macro avg       0.63      0.62      0.62      1600\n",
      " weighted avg       0.63      0.62      0.62      1600\n",
      "\n"
     ]
    }
   ],
   "source": [
    "# KNN Performance\n",
    "knn_y_pred = knn.predict(df_test['TF-IDF Vector'].tolist())\n",
    "print(classification_report(df_test.topic.tolist(), knn_y_pred))"
   ]
  },
  {
   "cell_type": "code",
   "execution_count": 84,
   "id": "7f12ff99-5521-45e2-ad21-6125edde4362",
   "metadata": {},
   "outputs": [
    {
     "name": "stdout",
     "output_type": "stream",
     "text": [
      "               precision    recall  f1-score   support\n",
      "\n",
      "     BUSINESS       0.60      0.38      0.46       200\n",
      "ENTERTAINMENT       0.45      0.57      0.50       200\n",
      "       HEALTH       0.53      0.68      0.60       200\n",
      "       NATION       0.30      0.42      0.35       200\n",
      "      SCIENCE       0.76      0.69      0.72       200\n",
      "       SPORTS       0.65      0.59      0.62       200\n",
      "   TECHNOLOGY       0.68      0.67      0.67       200\n",
      "        WORLD       0.44      0.27      0.34       200\n",
      "\n",
      "     accuracy                           0.53      1600\n",
      "    macro avg       0.55      0.53      0.53      1600\n",
      " weighted avg       0.55      0.53      0.53      1600\n",
      "\n"
     ]
    }
   ],
   "source": [
    "rf_y_pred = best_rf.predict(df_test['TF-IDF Vector'].tolist())\n",
    "print(classification_report(df_test.topic.tolist(), rf_y_pred))"
   ]
  },
  {
   "cell_type": "markdown",
   "id": "f09a99b8-551f-486f-a068-8b4ed17d757d",
   "metadata": {},
   "source": [
    "## 6. Discuss the results and possible strategies for model improvement"
   ]
  },
  {
   "cell_type": "markdown",
   "id": "c5eeeedb-a20c-4e44-bf01-2d6334911552",
   "metadata": {},
   "source": [
    "<p>From these results, we see that our initial KNN model is performing better than our initial random forest by accuracy, Macro F1 score, Macro Average Recall, and Macro Average Precision.</p>\n",
    "<p>Some limitations of this result include:</p>\n",
    "<ul><li><strong>Jupyter Notebook Limitation: </strong>We had to shrink the dataset due to the computational ineffeciency of TF-IDF. we are utilizing about 1/10th of the labelled dataset for our training, validation, and testing datasets because Jupyter Notebooks crashes computing that many TF-IDF vectors.</li>\n",
    "    <li><strong>TF-IDF: </strong>In addition to the issue above, TF-IDF also suffers from the curse of dimensionality. Both of these issues could be solved by using dimension reduction techniques (such as PCA) or by utilizing another vectorizing method (such as an AI embeddings model).</li>\n",
    "<li><strong>KNN: </strong>Our KNN result had strong performance out of the box, but the techniques used to counter the imbalance in our dataset may be skewing the results of our model. It could be optimal to use oversampling methods such as SMOTE or ADASYN on our one minority class than minimize the sample sizes of all the remaining classes.</li>\n",
    "<li><strong>Random Forest: </strong>It surprised me that the random forest performed so poorly, given how the large number of predictors present in TF-IDF (upwards of 15,000). </li>\n",
    "<li><strong>Steps for Further Improvement: </strong>In order to improve these results further, we could try one of the following:\n",
    "    <ul><li>Make the suggested edits for the problems raised by using TF-IDF above (such as use Principal Component Analysis to reduce dimensionality or use an AI Embeddings model to vectorize the text.</li>\n",
    "        <li>Expand our training dataset using the available data.</li>\n",
    "        <li>Implement other supervised machine learning methods such as Gradient Boosting or Support Vector Machines.</li>\n",
    "    </ul></li>\n",
    "</ul>"
   ]
  },
  {
   "cell_type": "markdown",
   "id": "624cf22e-ef2c-4436-babd-0f340aa23ed6",
   "metadata": {},
   "source": [
    "## 7. Model Demos"
   ]
  },
  {
   "cell_type": "code",
   "execution_count": 117,
   "id": "42c6ea02-8085-4b0c-895c-0ba211280092",
   "metadata": {},
   "outputs": [],
   "source": [
    "# Define demo function\n",
    "def predict_knn_rf(new_input, vectorizer=vectorizer, feature_names=feature_names):\n",
    "    new_vector = vectorizer.transform([new_input])\n",
    "    dense_new_vector = new_vector.todense()\n",
    "    tf_idf = dense_new_vector.tolist()\n",
    "    knn_pred = knn.predict(tf_idf)\n",
    "    print('KNN Prediction: ',knn_pred)\n",
    "    rf_pred = best_rf.predict(tf_idf)\n",
    "    print('Random Forest Prediction: ',rf_pred)"
   ]
  },
  {
   "cell_type": "code",
   "execution_count": 151,
   "id": "8dc9d7de-ca84-4076-8982-3008b7da20c5",
   "metadata": {},
   "outputs": [
    {
     "name": "stdout",
     "output_type": "stream",
     "text": [
      "KNN Prediction:  ['SPORTS']\n",
      "Random Forest Prediction:  ['SPORTS']\n"
     ]
    }
   ],
   "source": [
    "predict_knn_rf(\"Marc Guéhi wears 'Jesus loves you' armband despite FA warning\")"
   ]
  },
  {
   "cell_type": "code",
   "execution_count": null,
   "id": "8739e67e-0356-4d8b-a805-d66ef806097c",
   "metadata": {},
   "outputs": [],
   "source": []
  }
 ],
 "metadata": {
  "kernelspec": {
   "display_name": "Python 3 (ipykernel)",
   "language": "python",
   "name": "python3"
  },
  "language_info": {
   "codemirror_mode": {
    "name": "ipython",
    "version": 3
   },
   "file_extension": ".py",
   "mimetype": "text/x-python",
   "name": "python",
   "nbconvert_exporter": "python",
   "pygments_lexer": "ipython3",
   "version": "3.12.4"
  }
 },
 "nbformat": 4,
 "nbformat_minor": 5
}
